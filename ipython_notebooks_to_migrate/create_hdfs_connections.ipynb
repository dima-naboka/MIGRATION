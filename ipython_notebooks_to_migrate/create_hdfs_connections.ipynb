{
  "metadata": {
    "kernelspec": {
      "name": "python3",
      "display_name": "Python 3",
      "language": "python"
    },
    "creator": "admin",
    "createdOn": 1624944064694,
    "tags": [],
    "customFields": {},
    "hide_input": false,
    "language_info": {
      "name": "python",
      "version": "3.6.8",
      "mimetype": "text/x-python",
      "codemirror_mode": {
        "name": "ipython",
        "version": 3
      },
      "pygments_lexer": "ipython3",
      "nbconvert_exporter": "python",
      "file_extension": ".py"
    },
    "modifiedBy": "admin",
    "versionNumber": 1
  },
  "nbformat": 4,
  "nbformat_minor": 1,
  "cells": [
    {
      "execution_count": 1,
      "cell_type": "code",
      "metadata": {},
      "source": [
        "import dataiku\nimport json\n#print(json.dumps(job,indent\u003d4))\n\nclient \u003d dataiku.api_client()\ncurrent_project \u003d client.get_project(dataiku.get_custom_variables()[\"projectKey\"])\nvariables \u003d current_project.get_variables()\ngeneral_settings \u003d client.get_general_settings()"
      ],
      "outputs": []
    },
    {
      "execution_count": 0,
      "cell_type": "code",
      "metadata": {},
      "source": [
        "# dss_connections \u003d client.list_connections()\n# print(json.dumps(dss_connections[\u0027hdfs_engineers\u0027],indent\u003d4))\n# hdfs_engineers_params \u003d dss_connections[\u0027hdfs_data_team\u0027][\u0027params\u0027]\n# hdfs_engineers_params"
      ],
      "outputs": []
    },
    {
      "execution_count": 2,
      "cell_type": "code",
      "metadata": {},
      "source": [
        "eng_params \u003d {\n \u0027aclSynchronizationMode\u0027: \u0027NONE\u0027,\n \u0027clearMode\u0027: \u0027DSS_USER\u0027,\n \u0027customPropertiesProviderParams\u0027: [],\n \u0027dkuProperties\u0027: [],\n \u0027extraConf\u0027: [],\n \u0027hiveSynchronizationMode\u0027: \u0027KEEP_IN_SYNC\u0027,\n \u0027namingRule\u0027: {\u0027hdfsPathDatasetNamePrefix\u0027: \u0027${projectKey}/\u0027,\n  \u0027hiveDatabaseName\u0027: \u0027eng_db\u0027,\n  \u0027tableNameDatasetNamePrefix\u0027: \u0027${projectKey}_\u0027,\n  \u0027uploadsPathPrefix\u0027: \u0027uploads\u0027},\n \u0027overridePreCreateManagedDatasetFolderBeforeMetastoreSyncForRecipes\u0027: False,\n \u0027root\u0027: \u0027/data/eng\u0027\n}\n\ndatateam_params \u003d {\n \u0027aclSynchronizationMode\u0027: \u0027NONE\u0027,\n \u0027clearMode\u0027: \u0027DSS_USER\u0027,\n \u0027customPropertiesProviderParams\u0027: [],\n \u0027dkuProperties\u0027: [],\n \u0027extraConf\u0027: [],\n \u0027hiveSynchronizationMode\u0027: \u0027KEEP_IN_SYNC\u0027,\n \u0027namingRule\u0027: {\u0027hdfsPathDatasetNamePrefix\u0027: \u0027${projectKey}/\u0027,\n  \u0027hiveDatabaseName\u0027: \u0027data_team_db\u0027,\n  \u0027tableNameDatasetNamePrefix\u0027: \u0027${projectKey}_\u0027,\n  \u0027uploadsPathPrefix\u0027: \u0027uploads\u0027},\n \u0027overridePreCreateManagedDatasetFolderBeforeMetastoreSyncForRecipes\u0027: False,\n \u0027root\u0027: \u0027/data/data_team\u0027\n}\n\neng_connection_def \u003d {\n \u0027allowManagedDatasets\u0027: True,\n \u0027allowManagedFolders\u0027: True,\n \u0027allowWrite\u0027: True,\n \u0027allowedGroups\u0027: [\u0027engineers\u0027],\n \u0027credentialsMode\u0027: \u0027GLOBAL\u0027,\n \u0027customBasicConnectionCredentialProviderParams\u0027: [],\n \u0027customFields\u0027: {},\n \u0027detailsReadability\u0027: {\u0027allowedGroups\u0027: [\u0027engineers\u0027],\n  \u0027readableBy\u0027: \u0027ALLOWED\u0027},\n \u0027indexingSettings\u0027: {\u0027indexForeignKeys\u0027: False,\n  \u0027indexIndices\u0027: False,\n  \u0027indexSystemTables\u0027: False},\n \u0027maxActivities\u0027: 0,\n \u0027name\u0027: \u0027hdfs_engineers_dupl\u0027,\n \u0027params\u0027: {\u0027aclSynchronizationMode\u0027: \u0027NONE\u0027,\n  \u0027clearMode\u0027: \u0027DSS_USER\u0027,\n  \u0027customPropertiesProviderParams\u0027: [],\n  \u0027dkuProperties\u0027: [],\n  \u0027extraConf\u0027: [],\n  \u0027hiveSynchronizationMode\u0027: \u0027KEEP_IN_SYNC\u0027,\n  \u0027namingRule\u0027: {\u0027hdfsPathDatasetNamePrefix\u0027: \u0027${projectKey}/\u0027,\n   \u0027hiveDatabaseName\u0027: \u0027eng_db\u0027,\n   \u0027tableNameDatasetNamePrefix\u0027: \u0027${projectKey}_\u0027,\n   \u0027uploadsPathPrefix\u0027: \u0027uploads\u0027},\n  \u0027overridePreCreateManagedDatasetFolderBeforeMetastoreSyncForRecipes\u0027: False,\n  \u0027root\u0027: \u0027/data/eng\u0027},\n \u0027type\u0027: \u0027HDFS\u0027,\n \u0027usableBy\u0027: \u0027ALLOWED\u0027,\n \u0027useGlobalProxy\u0027: False\n}\n\ndatateam_connection_def \u003d {\n \u0027allowManagedDatasets\u0027: True,\n \u0027allowManagedFolders\u0027: True,\n \u0027allowWrite\u0027: True,\n \u0027allowedGroups\u0027: [\u0027data_team\u0027],\n \u0027credentialsMode\u0027: \u0027GLOBAL\u0027,\n \u0027customBasicConnectionCredentialProviderParams\u0027: [],\n \u0027customFields\u0027: {},\n \u0027detailsReadability\u0027: {\u0027allowedGroups\u0027: [\u0027data_team\u0027],\n  \u0027readableBy\u0027: \u0027ALLOWED\u0027},\n \u0027indexingSettings\u0027: {\u0027indexForeignKeys\u0027: False,\n  \u0027indexIndices\u0027: False,\n  \u0027indexSystemTables\u0027: False},\n \u0027maxActivities\u0027: 0,\n \u0027name\u0027: \u0027hdfs_data_team_dupl\u0027,\n \u0027params\u0027: {\u0027aclSynchronizationMode\u0027: \u0027NONE\u0027,\n  \u0027clearMode\u0027: \u0027DSS_USER\u0027,\n  \u0027customPropertiesProviderParams\u0027: [],\n  \u0027dkuProperties\u0027: [],\n  \u0027extraConf\u0027: [],\n  \u0027hiveSynchronizationMode\u0027: \u0027KEEP_IN_SYNC\u0027,\n  \u0027namingRule\u0027: {\u0027hdfsPathDatasetNamePrefix\u0027: \u0027${projectKey}/\u0027,\n   \u0027hiveDatabaseName\u0027: \u0027data_team_db\u0027,\n   \u0027tableNameDatasetNamePrefix\u0027: \u0027${projectKey}_\u0027,\n   \u0027uploadsPathPrefix\u0027: \u0027uploads\u0027},\n  \u0027overridePreCreateManagedDatasetFolderBeforeMetastoreSyncForRecipes\u0027: False,\n  \u0027root\u0027: \u0027/data/data_team\u0027},\n \u0027type\u0027: \u0027HDFS\u0027,\n \u0027usableBy\u0027: \u0027ALLOWED\u0027,\n \u0027useGlobalProxy\u0027: False\n}\n\neng_connection \u003d client.create_connection(\u0027hdfs_engineers_dupl\u0027, type\u003d\u0027HDFS\u0027, params\u003deng_params, usable_by\u003d\u0027ALLOWED\u0027, allowed_groups\u003d[\u0027engineers\u0027])\neng_connection.set_definition(eng_connection_def)\ndatateam_connection \u003d client.create_connection(\u0027hdfs_data_team_dupl\u0027, type\u003d\u0027HDFS\u0027, params\u003ddatateam_params, usable_by\u003d\u0027ALLOWED\u0027, allowed_groups\u003d[\u0027data_team\u0027])\ndatateam_connection.set_definition(datateam_connection_def)"
      ],
      "outputs": [
        {
          "output_type": "execute_result",
          "execution_count": 2,
          "data": {
            "text/plain": "{\u0027msg\u0027: \u0027Updated connection null\u0027}"
          },
          "metadata": {}
        }
      ]
    }
  ]
}